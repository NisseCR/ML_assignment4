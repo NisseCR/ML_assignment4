{
 "cells": [
  {
   "cell_type": "markdown",
   "metadata": {
    "id": "OMSxpJAkqYzk"
   },
   "source": [
    "# Assignment 4: Explainability\n",
    "\n",
    "*Part of the course:\n",
    "Machine Learning (code: INFOB3ML), fall 2023, Utrecht University*\n",
    "\n",
    "Total points: 10 (100%)\n",
    "\n",
    "Deadline: Friday 3 November, 23:59\n",
    "\n",
    "**Write your names and student numbers here: ___**\n",
    "\n",
    "Submit one ipynb file per pair.\n",
    "\n",
    "**Before you submit, click Kernel > Restart & Run All to make sure you submit a working version of your code!**\n",
    "\n"
   ]
  },
  {
   "cell_type": "markdown",
   "metadata": {
    "id": "moyaViIx8WzS"
   },
   "source": [
    "## Installation\n",
    "\n",
    "For this assignment, we are going to use the following Python packages:\n",
    "\n",
    "matplotlib, pandas, statsmodels, interpret, scikit-learn, openpyxl and graphviz"
   ]
  },
  {
   "cell_type": "code",
   "execution_count": 27,
   "metadata": {
    "ExecuteTime": {
     "end_time": "2023-11-03T14:59:24.431115Z",
     "start_time": "2023-11-03T14:59:24.366857100Z"
    },
    "id": "6EaC6P7RqXOh"
   },
   "outputs": [],
   "source": [
    "# Installing packages\n",
    "# !pip install graphviz\n",
    "# !pip install matplotlib pandas numpy statsmodels interpret scikit-learn openpyxl"
   ]
  },
  {
   "cell_type": "markdown",
   "metadata": {
    "id": "HeSC0_WEpY0k"
   },
   "source": [
    "## Downloading the data\n",
    "We are going to use the combined cycle power plant dataset. This dataset contains 9568 data points collected from a Combined Cycle Power Plant over 6 years (2006-2011), when the power plant was set to work with full load. We have the following features: hourly average ambient variables Temperature (T), Ambient Pressure (AP), Relative Humidity (RH) and Exhaust Vacuum (V). We will train ML models to predict the net hourly electrical energy output (EP) of the plant.\n",
    "\n",
    "For a detailed description, see: [[Description](https://archive.ics.uci.edu/ml/datasets/combined+cycle+power+plant)]\n",
    "\n",
    "We first need to download and prepare data. \n"
   ]
  },
  {
   "cell_type": "code",
   "execution_count": 28,
   "metadata": {
    "ExecuteTime": {
     "end_time": "2023-11-03T14:59:24.431115Z",
     "start_time": "2023-11-03T14:59:24.371362200Z"
    },
    "id": "fleSmPrE7UMT"
   },
   "outputs": [],
   "source": [
    "# Download and unzip data\n",
    "\n",
    "# Windows users: download the data from https://archive.ics.uci.edu/ml/machine-learning-databases/00294/CCPP.zip\n",
    "# and unzip the file manually in the same folder as the python notebook\n",
    "\n",
    "# Note: this cell works fine on Linux based systems and Google Colab\n",
    "# If you run it on a Windows machine, you will get an error (...'wget' is not recognized as an internal or external command...)\n",
    "# !wget -c https://archive.ics.uci.edu/ml/machine-learning-databases/00294/CCPP.zip\n",
    "# !unzip CCPP.zip"
   ]
  },
  {
   "cell_type": "markdown",
   "metadata": {
    "id": "PQpW5C3Sg9YA"
   },
   "source": [
    "## Loading and preprocessing the data\n",
    "We split the data into training (first 5000 instances) and validation (the subsequent 2000) and test (the last 2568) sets. We will use the training set to train a model, and validation set to optimize the model hyper-parameters. \n"
   ]
  },
  {
   "cell_type": "code",
   "execution_count": 29,
   "metadata": {
    "ExecuteTime": {
     "end_time": "2023-11-03T14:59:24.431115Z",
     "start_time": "2023-11-03T14:59:24.377416800Z"
    },
    "id": "JycjPmn_7p41"
   },
   "outputs": [],
   "source": [
    "# Load and prepare data\n",
    "import numpy as np\n",
    "import pandas as pd\n",
    "from sklearn.preprocessing import StandardScaler\n",
    "\n",
    "# global variables\n",
    "DATA_FILENAME = 'CCPP/Folds5x2_pp.xlsx'\n",
    "FEATURE_NAMES = ['AT', 'V', 'AP', 'RH']\n",
    "LABEL_NAME = 'PE'\n",
    "# Load the data from the excel file\n",
    "def load_data():\n",
    "    def split_feature_label(data_set):\n",
    "        features = data_set[FEATURE_NAMES]\n",
    "        labels = data_set[LABEL_NAME]\n",
    "        return features, labels\n",
    "\n",
    "    data = pd.read_excel(DATA_FILENAME)\n",
    "    train_set, dev_set, test_set = data[:5000], data[5000: 7000], data[7000:]\n",
    "\n",
    "    train_features, train_labels = split_feature_label(train_set)\n",
    "    dev_features, dev_labels = split_feature_label(dev_set)\n",
    "    test_features, test_labels = split_feature_label(test_set)\n",
    "\n",
    "    return train_features, train_labels, dev_features, \\\n",
    "        dev_labels, test_features, test_labels\n",
    "\n",
    "\n",
    "# preprocess (by z-normalization) the data for the regression task\n",
    "# return the normalized feature sets and corresponding target variables \n",
    "def prepare_load_regression_data():\n",
    "    train_features, train_labels, dev_features, \\\n",
    "        dev_labels, test_features, test_labels = load_data()\n",
    "\n",
    "    scaler = StandardScaler()\n",
    "    scaler = scaler.fit(train_features)\n",
    "\n",
    "    train_features = pd.DataFrame(data=scaler.transform(train_features), columns=FEATURE_NAMES)\n",
    "    dev_features = pd.DataFrame(data=scaler.transform(dev_features), columns=FEATURE_NAMES)\n",
    "    test_features = pd.DataFrame(data=scaler.transform(test_features), columns=FEATURE_NAMES)\n",
    "\n",
    "    return train_features, train_labels, dev_features, \\\n",
    "        dev_labels, test_features, test_labels, scaler\n",
    "\n"
   ]
  },
  {
   "cell_type": "markdown",
   "metadata": {
    "id": "QabF2JOdMTI4"
   },
   "source": [
    "## Training and Interpreting a Linear Regression Model\n",
    "\n",
    "**Q1**. (10)% Train a linear regression model (we recommend the statsmodels package) and report $R^2$ (goodness of fit) statistic.\n",
    "\n",
    "For model interpretability, provide for each feature (+ the bias variable) the following in tabular format: \n",
    "* Weight estimates\n",
    "* SE (standard error of estimates) \n",
    "* T statistics\n",
    "\n",
    "*Answer*\n",
    "Our model has an $R^2$ of 0.929. Tabular data of weights, SE and T statistics can be found in the code cell below.\n",
    "\n",
    "Further Questions regarding the linear model (answers to be included in the notebook): \n",
    "\n",
    "**Q2**. (10%) Which three features are the most important?\n",
    "\n",
    "*Answer*\n",
    "The most important features can be obtained by looking at the highest absolute value of the T-statistic (exluding our bias feature):\n",
    "1. AT\n",
    "2. RH\n",
    "3. V\n",
    "\n",
    "**Q3**. (10%) How does the gas turbine energy yield (EP) change with unit (one degree C) increase of the ambient temperature given that all other feature values remain the same? (Note: Here you should consider whether you use the original or z-normalized features to train your linear model.)\n",
    "\n",
    "*Answer*\n",
    "EP changes by $\\approx$ -1.9999 with unit change of AT.\n",
    "\n",
    "**Q4**. (10%) Show bar graph illustrations of the feature effects for the first two development set instances.\n",
    "\n",
    "*Answer*\n",
    "Bar plots and dev instances are printed in the code cell below."
   ]
  },
  {
   "cell_type": "code",
   "execution_count": 30,
   "metadata": {
    "ExecuteTime": {
     "end_time": "2023-11-03T14:59:25.240205Z",
     "start_time": "2023-11-03T14:59:24.386261600Z"
    },
    "id": "B91BszFhMStw"
   },
   "outputs": [
    {
     "name": "stdout",
     "output_type": "stream",
     "text": [
      "                            OLS Regression Results                            \n",
      "==============================================================================\n",
      "Dep. Variable:                     PE   R-squared:                       0.929\n",
      "Model:                            OLS   Adj. R-squared:                  0.929\n",
      "Method:                 Least Squares   F-statistic:                 1.644e+04\n",
      "Date:                Fri, 03 Nov 2023   Prob (F-statistic):               0.00\n",
      "Time:                        15:59:25   Log-Likelihood:                -14635.\n",
      "No. Observations:                5000   AIC:                         2.928e+04\n",
      "Df Residuals:                    4995   BIC:                         2.931e+04\n",
      "Df Model:                           4                                         \n",
      "Covariance Type:            nonrobust                                         \n",
      "==============================================================================\n",
      "                 coef    std err          t      P>|t|      [0.025      0.975]\n",
      "------------------------------------------------------------------------------\n",
      "const        454.4443      0.064   7108.416      0.000     454.319     454.570\n",
      "AT           -14.8080      0.156    -95.152      0.000     -15.113     -14.503\n",
      "V             -2.8534      0.127    -22.543      0.000      -3.102      -2.605\n",
      "AP             0.3820      0.077      4.948      0.000       0.231       0.533\n",
      "RH            -2.4247      0.083    -29.185      0.000      -2.588      -2.262\n",
      "==============================================================================\n",
      "Omnibus:                      498.725   Durbin-Watson:                   2.030\n",
      "Prob(Omnibus):                  0.000   Jarque-Bera (JB):             2485.693\n",
      "Skew:                          -0.355   Prob(JB):                         0.00\n",
      "Kurtosis:                       6.380   Cond. No.                         4.85\n",
      "==============================================================================\n",
      "\n",
      "Notes:\n",
      "[1] Standard Errors assume that the covariance matrix of the errors is correctly specified.\n",
      "\n",
      "Q3 \n",
      " Data:\n",
      "   const        AT         V        AP        RH\n",
      "0    1.0 -0.622939 -1.122757 -2.248284 -0.221006\n",
      "1    1.0 -0.487887 -1.122757 -2.248284 -0.221006\n",
      "\n",
      "EP effect with unit change on AT\n",
      "0    466.549399\n",
      "1    464.549542\n",
      "dtype: float64\n",
      "difference: \n",
      "-1.999856648904256\n",
      "\n",
      "Q4 \n",
      " Data:\n",
      "   const        AT         V        AP        RH\n",
      "0    1.0 -0.753940 -0.401112  1.218071  0.719649\n",
      "1    1.0  0.627649 -0.497331 -1.593904 -0.190684\n",
      "const    454.444328\n",
      "AT       -14.807970\n",
      "V         -2.853379\n",
      "AP         0.382037\n",
      "RH        -2.424737\n",
      "dtype: float64\n",
      "\n",
      "Results:\n",
      "        const         AT         V        AP        RH\n",
      "0  454.444328  11.164328  1.144523  0.465348 -1.744961\n",
      "1  454.444328  -9.294206  1.419074 -0.608931  0.462360\n"
     ]
    },
    {
     "data": {
      "image/png": "[encoded data removed]",
      "text/plain": [
       "<Figure size 640x480 with 1 Axes>"
      ]
     },
     "metadata": {},
     "output_type": "display_data"
    },
    {
     "data": {
      "image/png": "[encoded data removed]",
      "text/plain": [
       "<Figure size 640x480 with 1 Axes>"
      ]
     },
     "metadata": {},
     "output_type": "display_data"
    }
   ],
   "source": [
    "# We recommend the statsmodels package\n",
    "import statsmodels.api as sm\n",
    "import numpy as np\n",
    "import matplotlib.pyplot as plt\n",
    "# Hint, by default this sm does not include the bias/offset term w_0\n",
    "# thus, you should add it yourself using sm.add_constant()\n",
    "\n",
    "## Q1\n",
    "# Linear regression\n",
    "# Get the preprocessed data for linear regression modeling\n",
    "train_features, train_labels, dev_features, dev_labels, test_features, test_labels, scaler = prepare_load_regression_data()\n",
    "\n",
    "# Add w0 constant\n",
    "train_features = sm.add_constant(train_features)\n",
    "dev_features = sm.add_constant(dev_features)\n",
    "test_features = sm.add_constant(test_features)\n",
    "\n",
    "# Train model\n",
    "mod = sm.OLS(train_labels, train_features, hasconst=True)\n",
    "res = mod.fit()\n",
    "print(res.summary())\n",
    "\n",
    "## Q3\n",
    "# Create unit change data\n",
    "data = pd.DataFrame([[15, 40, 1000, 70], [16, 40, 1000, 70]], columns=FEATURE_NAMES)\n",
    "unit_features = pd.DataFrame(scaler.transform(data), columns=FEATURE_NAMES)\n",
    "unit_features = sm.add_constant(unit_features, has_constant='add')\n",
    "\n",
    "# Predict target and assess change\n",
    "pred = res.predict(unit_features)\n",
    "print('\\nQ3 \\n Data:')\n",
    "print(unit_features)\n",
    "print('\\nEP effect with unit change on AT')\n",
    "print(pred)\n",
    "print('difference: ')\n",
    "print(pred[1]-pred[0])\n",
    "\n",
    "## Q4\n",
    "# Fetch data\n",
    "dev_samples = dev_features.head(2)\n",
    "weights = res.params\n",
    "\n",
    "print('\\nQ4 \\n Data:')\n",
    "print(dev_samples)\n",
    "print(weights)\n",
    "\n",
    "# Calculate feature effects\n",
    "dev_results = dev_samples.apply(lambda r: r * weights, axis=1)\n",
    "\n",
    "print('\\nResults:')\n",
    "print(dev_results)\n",
    "\n",
    "# Plot\n",
    "for idx, row in dev_results.iterrows():\n",
    "    plt.barh(FEATURE_NAMES, row[1:])\n",
    "    plt.show()\n"
   ]
  },
  {
   "cell_type": "markdown",
   "metadata": {
    "id": "5tj6Pri4HBeO"
   },
   "source": [
    "**Q5.** (10%) Reflection: why would training a regression tree not work well for this dataset in terms of model interpretability? (answer in the notebook)\n",
    "\n",
    "- Continous, zelfs als je 3 discrete waardes zou kiezen, zo de de boom alsnog enorm groot worden om alles te kunnen coveren.\n"
   ]
  },
  {
   "cell_type": "markdown",
   "metadata": {
    "id": "k7r09mMfeo2k"
   },
   "source": [
    "## Training and Interpreting an Explainable Boosting Model (Generalized Additive Model)\n",
    "**Q6**. (10%) Train a Explainable Boosting Machine (with [interpret.ml](https://github.com/interpretml/interpret/))\n",
    "\n",
    "(Note on grading: Training EBM 4%, global and local explanation visualizations - see below -  3% each)\n",
    "\n",
    "For a tutorial see: [[Tutorial](https://nbviewer.org/github/interpretml/interpret/blob/master/examples/python/notebooks/Interpretable%20Regression%20Methods.ipynb)]\n",
    "\n",
    "\n",
    "* (3%) Visualize/provide global (model-wise) feature importances for EBM as a table or figure. What are the most important two features in EBM? Are they the same as in the linear model?\n",
    "\n",
    "* (3%) Visualize local (instance-wise) feature importances for a development set instance of your choice.\n",
    "\n",
    "*Answer*\n",
    "Global feature importance is provided in code cell below. The most important features are:\n",
    "- AT\n",
    "- V\n",
    "\n",
    "This differs from the linear model, which suggested that RH was the second most important feature.\n",
    "\n",
    "Local feature importances are also provided below. Instances can be interactively chosen in the graph.\n",
    "\n"
   ]
  },
  {
   "cell_type": "code",
   "execution_count": 31,
   "metadata": {
    "ExecuteTime": {
     "end_time": "2023-11-03T14:59:34.045550Z",
     "start_time": "2023-11-03T14:59:25.199977100Z"
    },
    "id": "u-ZmqpxweoZv"
   },
   "outputs": [
    {
     "name": "stderr",
     "output_type": "stream",
     "text": [
      "C:\\Users\\nisse\\AppData\\Roaming\\Python\\Python311\\site-packages\\interpret\\visual\\_udash.py:117: FutureWarning:\n",
      "\n",
      "Series.__getitem__ treating keys as positions is deprecated. In a future version, integer keys will always be treated as labels (consistent with DataFrame behavior). To access a value by position, use `ser.iloc[pos]`\n",
      "\n"
     ]
    },
    {
     "data": {
      "text/html": [
       "<!-- http://127.0.0.1:7001/2088761304848/ -->\n",
       "<iframe src=\"http://127.0.0.1:7001/2088761304848/\" width=100% height=800 frameBorder=\"0\"></iframe>"
      ]
     },
     "metadata": {},
     "output_type": "display_data"
    },
    {
     "name": "stderr",
     "output_type": "stream",
     "text": [
      "C:\\Users\\nisse\\AppData\\Roaming\\Python\\Python311\\site-packages\\interpret\\visual\\_udash.py:117: FutureWarning:\n",
      "\n",
      "Series.__getitem__ treating keys as positions is deprecated. In a future version, integer keys will always be treated as labels (consistent with DataFrame behavior). To access a value by position, use `ser.iloc[pos]`\n",
      "\n"
     ]
    },
    {
     "data": {
      "text/html": [
       "<!-- http://127.0.0.1:7001/2088766176656/ -->\n",
       "<iframe src=\"http://127.0.0.1:7001/2088766176656/\" width=100% height=800 frameBorder=\"0\"></iframe>"
      ]
     },
     "metadata": {},
     "output_type": "display_data"
    }
   ],
   "source": [
    "from interpret.glassbox import ExplainableBoostingRegressor\n",
    "from interpret import show\n",
    "\n",
    "# EBM\n",
    "ebm = ExplainableBoostingRegressor()\n",
    "ebm.fit(train_features, train_labels)\n",
    "\n",
    "ebm_global = ebm.explain_global()\n",
    "show(ebm_global)\n",
    "\n",
    "ebm_local = ebm.explain_local(dev_features, dev_labels)\n",
    "show(ebm_local)"
   ]
  },
  {
   "cell_type": "markdown",
   "metadata": {
    "id": "_k7dAwTIfbsc"
   },
   "source": [
    "## Training and Explaining Neural Networks\n",
    "**Q7**. (10%) Train a Neural Network (using the training and validation sets): One-layer MLP (with ReLU activation function and 50 to 100 hidden neurons) \n",
    "\n",
    "We recommend to use the Adam optimizer. Fine-tune the learning rate and any other hyper-parameters you find necessary. \n",
    "\n",
    "For a tutorial see: [[Tutorial](https://scikit-learn.org/stable/modules/neural_networks_supervised.html)]\n",
    "\n",
    "Your code should report the results following the instructions below:\n",
    "\n",
    "Note on grading: training NN: 4%, answering below sub-questions 3% each.\n",
    "\n",
    "* (3%) Apply the trained neural network model on the test set and report Root Mean Square Error (RMSE) performance measure.\n",
    "\n",
    "* (3%) Analyzing factors influencing the neural network predictions. \n",
    "See the [Documentation](https://scikit-learn.org/stable/modules/partial_dependence.html) to use Partial Dependence Plot (PDP)  implementation in python. Use the trained one-layer MLP model to  Generate and report a bivariate PDP using 'AT' (Ambient Temperature) and 'V' (Exhaust Vacuum) features (Note: not two univariate PDPs but one bivariate PDP).\n"
   ]
  },
  {
   "cell_type": "code",
   "execution_count": 32,
   "metadata": {
    "ExecuteTime": {
     "end_time": "2023-11-03T15:00:19.515971700Z",
     "start_time": "2023-11-03T14:59:34.054033800Z"
    },
    "id": "qQjg_qtCf_WD"
   },
   "outputs": [
    {
     "name": "stdout",
     "output_type": "stream",
     "text": [
      "learning rate:invscaling alpha: 0.001 error: 18.552330598445593\n"
     ]
    },
    {
     "data": {
      "text/plain": [
       "<sklearn.inspection._plot.partial_dependence.PartialDependenceDisplay at 0x1e65315ffd0>"
      ]
     },
     "execution_count": 32,
     "metadata": {},
     "output_type": "execute_result"
    },
    {
     "data": {
      "image/png": "[encoded data removed]",
      "text/plain": [
       "<Figure size 640x480 with 2 Axes>"
      ]
     },
     "metadata": {},
     "output_type": "display_data"
    }
   ],
   "source": [
    "from sklearn.neural_network import MLPRegressor\n",
    "from sklearn.metrics import mean_squared_error\n",
    "from sklearn.inspection import PartialDependenceDisplay\n",
    "\n",
    "# One-layer MLP : you can use  learning_rate_init=0.001 to get a reasonable model, optimize other parameters by experimentation\n",
    "# We advice that you name variable for the mlp regressor model 'mlp_reg' so that it will be consistent \n",
    "# with the scripts to call your implementation of PFI later in Q8:\n",
    "\n",
    "learning_rates = ['constant', 'invscaling', 'adaptive']\n",
    "alpha_values = 10.0 ** -np.arange(1, 7)\n",
    "results = {}\n",
    "\n",
    "def train_and_test(learning_rate, alpha):\n",
    "    mlp_reg = MLPRegressor(hidden_layer_sizes=(100), activation='relu', solver='adam', learning_rate=learning_rate, learning_rate_init=0.001, alpha = alpha, max_iter = 1000)\n",
    "    mlp_reg.fit(train_features, train_labels)\n",
    "    predictions = mlp_reg.predict(test_features)\n",
    "    error = mean_squared_error(test_labels, predictions)\n",
    "    print(f\"learning rate:{learning_rate} alpha: {alpha} error: {error}\")\n",
    "    results[error] = (learning_rate, alpha)\n",
    "    return mlp_reg\n",
    "\n",
    "#for learning_rate in learning_rates:\n",
    "#    for alpha in alpha_values:\n",
    "#        train_and_test(learning_rate, alpha)\n",
    "#\n",
    "#sorted_keys = list(results.keys())\n",
    "#sorted_keys.sort()\n",
    "#sorted_results = {i: results[i] for i in sorted_keys}\n",
    "#print(sorted_results)\n",
    "\n",
    "# best parameters are : 'invscaling', 0.001\n",
    "\n",
    "mlp_reg = train_and_test('invscaling', 0.001)\n",
    "# TODO train of test featureus????????\n",
    "\n",
    "PartialDependenceDisplay.from_estimator(mlp_reg, train_features, [(1,2)])\n",
    "\n"
   ]
  },
  {
   "cell_type": "markdown",
   "metadata": {},
   "source": [
    "### Generating Model-Agnostic Global Explanations for NN predictions\n",
    "\n",
    "**Permutation Feature Importance (PFI)**\n",
    "\n",
    "**Q8**. (20%) Implement the permutation feature importance algorithm using RMSE as the error function (%12). No existing libraries (save measuring RMSE) are allowed to use. We will implement it ourselves.\n",
    "- (%4) Visualize feature importances obtained by PFI for the NN (one-layer MLP) model you trained using a bar graph.\n",
    "- (%4) Reflection: What are the most important two features obtained by PFI for MLP model? How do these two features compare to the top two features from the Linear Model and the EBM?"
   ]
  },
  {
   "cell_type": "code",
   "execution_count": 33,
   "metadata": {
    "ExecuteTime": {
     "end_time": "2023-11-03T15:00:19.539034Z",
     "start_time": "2023-11-03T15:00:19.520839900Z"
    }
   },
   "outputs": [],
   "source": [
    "# Use the below function signature and the parameters to implement PFI\n",
    "def PFI(X, labels, model, rmse):\n",
    "\n",
    "    df_importance = pd.DataFrame(columns=['feature', 'importance'])\n",
    "    # Your scripts implementing PFI here\n",
    "    for feature in X.columns.tolist()[1:]:\n",
    "        df = X.copy()\n",
    "        df[feature] = np.random.permutation(df[feature])\n",
    "        rmse_feature = mean_squared_error(labels, mlp_reg.predict(df) , squared=False)\n",
    "        importance = rmse_feature / rmse\n",
    "        df_importance.loc[len(df_importance)] = [feature, importance]\n",
    "    return df_importance\n",
    "    \n",
    "\n",
    "\n",
    "\n",
    "# Do not modify this part (unless you change the variable name mlp_reg above)\n",
    "base_rmse = mean_squared_error(dev_labels, mlp_reg.predict(dev_features) , squared=False)\n",
    "results_df = PFI(dev_features, dev_labels, mlp_reg, base_rmse)"
   ]
  },
  {
   "cell_type": "code",
   "execution_count": 34,
   "metadata": {
    "ExecuteTime": {
     "end_time": "2023-11-03T15:00:19.620427600Z",
     "start_time": "2023-11-03T15:00:19.539034Z"
    }
   },
   "outputs": [
    {
     "data": {
      "image/png": "[encoded data removed]",
      "text/plain": [
       "<Figure size 640x480 with 1 Axes>"
      ]
     },
     "metadata": {},
     "output_type": "display_data"
    }
   ],
   "source": [
    "# Your scripts to visualize results_df using a bar graph here\n",
    "plt.bar(results_df['feature'], results_df['importance'])\n",
    "plt.show()"
   ]
  },
  {
   "cell_type": "markdown",
   "metadata": {
    "id": "vpGv6J6XlBQ4"
   },
   "source": [
    "### Generating Model-Agnostic Explanations for NN predictions\n",
    "You can check the tutorials for LIME explanations for neural networks \n",
    "[[LIME Tutorial](https://nbviewer.org/github/interpretml/interpret/blob/develop/examples/python/Explaining_Blackbox_Regressors.ipynb)]\n",
    "\n",
    "\n",
    "**Q9**. (10%) Provide LIME-based explanations for trained NN model's predictions on two randomly selected test set instances.  "
   ]
  },
  {
   "cell_type": "code",
   "execution_count": 35,
   "metadata": {
    "ExecuteTime": {
     "end_time": "2023-11-03T15:00:19.716239300Z",
     "start_time": "2023-11-03T15:00:19.613794200Z"
    },
    "id": "dIo-o_lClJYQ"
   },
   "outputs": [],
   "source": [
    "# Global explanations\n",
    "import graphviz\n",
    "from interpret import show\n",
    "\n",
    "# Local explanations (LIME)\n",
    "from interpret.blackbox import LimeTabular\n",
    "\n",
    "import random\n",
    "\n",
    "random.seed(6)\n",
    "rand_index1 = random.randint(0, len(test_features))\n",
    "rand_index2 = random.randint(0, len(test_features))\n",
    "\n",
    "print(test_labels[rand_index1 : rand_index1+1])\n",
    "print(mlp_reg.predict(test_features[rand_index1 : rand_index1+1]))\n",
    "\n",
    "test_features_1 = test_features[rand_index1:rand_index1+1]\n",
    "test_features_2 = test_features[rand_index2:rand_index2+1]\n",
    "two_test_features = pd.concat([test_features_1, test_features_2])\n",
    "print(two_test_features)\n",
    "\n",
    "test_labels_1 = test_labels[rand_index1:rand_index1+1]\n",
    "test_labels_2 = test_labels[rand_index2:rand_index2+1]\n",
    "two_test_labels = pd.concat([test_labels_1, test_labels_2])\n",
    "print(two_test_labels)\n",
    "\n",
    "#Blackbox explainers need a predict function, and optionally a dataset\n",
    "lime = LimeTabular(mlp_reg, test_features, random_state=1)\n",
    "\n",
    "#Pick the instances to explain, optionally pass in labels if you have them\n",
    "lime_local = lime.explain_local(two_test_features, two_test_labels, name='LIME')\n",
    "\n",
    "show(lime_local, 0)"
   ]
  }
 ],
 "metadata": {
  "colab": {
   "collapsed_sections": [],
   "provenance": [],
   "toc_visible": true
  },
  "kernelspec": {
   "display_name": "Python 3 (ipykernel)",
   "language": "python",
   "name": "python3"
  },
  "language_info": {
   "codemirror_mode": {
    "name": "ipython",
    "version": 3
   },
   "file_extension": ".py",
   "mimetype": "text/x-python",
   "name": "python",
   "nbconvert_exporter": "python",
   "pygments_lexer": "ipython3",
   "version": "3.11.5"
  }
 },
 "nbformat": 4,
 "nbformat_minor": 4
}
